{
 "cells": [
  {
   "cell_type": "markdown",
   "metadata": {},
   "source": [
    "# Discovery of interesting objects in large spectra survey using active deep learning\n",
    "\n",
    "## Introduction\n",
    "\n",
    "TODO complete introduction\n",
    "\n",
    "This letter is organized as follows. Section Data desribes the LAMOST and Ondřejov 2m Perek telescope data sources. Next, section Preprocessing introduces all methods employed to prepare data for learning. Main section is Method section, where our active convolutional neural network is detailed. Finally, in Result section the outcomes of our experiment are discussed."
   ]
  },
  {
   "cell_type": "code",
   "execution_count": null,
   "metadata": {},
   "outputs": [],
   "source": [
    "from active_cnn import data\n",
    "from active_cnn import learning\n",
    "from active_cnn import plot\n",
    "from active_cnn import preprocessing\n",
    "import matplotlib.pyplot as plt\n",
    "import numpy as np\n",
    "from spectraml import ondrejov"
   ]
  },
  {
   "cell_type": "code",
   "execution_count": null,
   "metadata": {},
   "outputs": [],
   "source": [
    "# setup matplotlib: https://matplotlib.org/users/usetex.html\n",
    "plt.rc('text', usetex=True)\n",
    "plt.rc('font', family='serif')"
   ]
  },
  {
   "cell_type": "markdown",
   "metadata": {},
   "source": [
    "## Data\n",
    "\n",
    "Our work is about discovery of interesting objects in LAMOST spectral survey using data from Ondřejov 2m Perek telescope, so this section introduces the to spectrographs and gives information about the spectral data it produced.\n",
    "\n",
    "### LAMOST spectral survey"
   ]
  },
  {
   "cell_type": "code",
   "execution_count": null,
   "metadata": {},
   "outputs": [],
   "source": [
    "# read LAMOST DR2 dataset\n",
    "ids, X = data.get_lamost_dataset('data/lamost-dr2.h5')\n",
    "ids.shape"
   ]
  },
  {
   "cell_type": "markdown",
   "metadata": {},
   "source": [
    "The LAMOST telescope is delivering one of currently largest collections of spectra.\n",
    "Its publicly accessible data release 2 (DR2) contains slightly more than 4 milion spectra with a spectral resolving power around 1800 covering the range 3690-9100 Angstroms.\n",
    "The LAMOST pipeline assigns spectra automatically an estimated spectral class.\n",
    "However, the classification is mostly based on global shape and integral properties of a spectrum in given band-passes using a set of predefined templates.\n",
    "The local features, as for example detailed line profile, are ignored.\n",
    "Therefore, strong narrow emissions may be rejected by the pipeline as spoiled pixels.\n",
    "The archive FITS files have their spectral axis experessed in logarithm of vacuum wavelength.\n",
    "\n",
    "### Archive of Ondřejov 2m Perek telescope\n",
    "\n",
    "A unique source of the spectra with emission-line stars (mostly Be and B[e] hot stars with strong winds and several novae) is the archive of spectra obtained with 700 mm camera in the coude spectrograph of the 2m Perek telescope at Ondřejov observatory a part of the Astronomical Institute of the Czech Academy of Sciences.\n",
    "This continuously growing archive (hereafter CCD700) contains currently about 17000 spectra, the majority of them (more than 13000) are exposed in spectral range 6250-6700 Angstrom with spectral resolving power about 13000.\n",
    "The spectra are reduced by standard IRAF procedures including the calibration in air wavelengths and heliocentric correction.\n",
    "\n",
    "From CCD700 archive there is a dataset (hereafter Ondřejov dataset, https://github.com/podondra/ondrejov-dataset) created by Podsztavek (2017).\n",
    "The dataset contains 12936 labeled spectra, which are divided into 3 classes according to the profile of H$alpha$ spectral line:\n",
    "\n",
    "- absorption: 6102 spectra (47.17%),\n",
    "- emission: 5301 spectra (40.98%) and\n",
    "- double-peak: 1533 spectra (11.85%)."
   ]
  },
  {
   "cell_type": "code",
   "execution_count": null,
   "metadata": {
    "scrolled": true
   },
   "outputs": [],
   "source": [
    "ondrejov_data = data.get_ondrejov_dataset('data/ondrejov-dataset.csv')\n",
    "ids_train, X_train, labels_train, y_train = ondrejov_data\n",
    "\n",
    "def preview_profiles():\n",
    "    fig, axs = plt.subplots(nrows=2, ncols=2, sharex=True)\n",
    "    labels = ['absorption', 'emission'] + 2 * ['double-peak']\n",
    "    spectra_id = ['a201403300026', 'lb160035', 'si220021', 'a201306110029']\n",
    "    for spectrum_id, label, ax in zip(spectra_id, labels, axs.flat):\n",
    "        ax.set_title(label)\n",
    "        ax.set_ylabel('flux (counts)')\n",
    "        plot.plot_ondrejov_spectrum(spectrum_id, ondrejov_data, ax)\n",
    "    fig.tight_layout()\n",
    "    axs[1][0].set_xlabel('wavelength (\\AA)')\n",
    "    axs[1][1].set_xlabel('wavelength (\\AA)')\n",
    "    plt.savefig('figures/profiles.pdf')\n",
    "    plt.show()\n",
    "    plt.close()\n",
    "\n",
    "preview_profiles()"
   ]
  },
  {
   "cell_type": "markdown",
   "metadata": {},
   "source": [
    "## Preprocessing\n",
    "\n",
    "This section details all the preprocessing methods applied to each spectrum including air to vacuum wavelengths conversion, gaussian blur, resampling and rescaling.\n",
    "\n",
    "### Domain Adaptation\n",
    "\n",
    "A common assumption in machine learning is that training data and data, we want our model apply to, are from the same probability distribution $P(X)$. (https://ieeexplore.ieee.org/document/5288526)\n",
    "But in this work we are interested in the classification of LAMOST archive, desribed by probality distribution $P(Y)$, using training set from Ondřejov spectrograph, distribution $P(X)$, where $P(X) \\neq P(Y)$.\n",
    "In such case we would like to extract as much knowledge as possible from Ondřejov dataset and transfer it to maximally improve our model's performance on LAMOST data.\n",
    "This is well know problem in machine larning called domain adaptation, which tries to find a function to transform the distribution so that they are very similar. (http://www.icml-2011.org/papers/342_icmlpaper.pdf)\n",
    "\n",
    "Therefore, to deal with domain adaptation we applied first air to vacuum conversion to Ondřejov data, because spectra from Ondřejov CCD700 archive are in air wavelenght but LAMOST spectra use vacuum wavelenght.\n",
    "The conversion was made according to formulas provided on http://www.astro.uu.se/valdwiki/Air-to-vacuum%20conversion.\n",
    "\n",
    "Secondly, because CCD700 spectra have higher spectral resolution, we applied the spectral resolving power degradation, roughly approximated by the convolution with the Gaussian kernel of given pixel width.\n",
    "Comparison figures of simulated spectra from CCD700 and from LAMOST of all 22 objects mentioned above showed that standard deviation of value 7 pixels works best.\n",
    "\n",
    "Finnaly, spectra from the LAMOST DR1 were converted from logarithm of vacuum wavelength into linear wavelength.\n",
    "\n",
    "### Resampling\n",
    "\n",
    "Convoulutional neural network requires its inputs to be a set of features.\n",
    "In order to have same features for all spectra they need to be resampled to get measurement in same wavelengths across all spectra.\n",
    "We choosed to do linear interpolation (using `numpy.interp` function) to 140 uniformly distributed wavelengths in spectral range between 6519 and 6732 Angstroms.\n",
    "\n",
    "We choosed 140 wavelengths because LAMOST spectra have mostly this number of measurement int the range and the range is derived from the fact that our classification is based on H$alpha$ line and most of Ondřejov spectra are measured between these wavelengths. This range also contains He I 6678 Angstroms line prominent in Be stars.\n",
    "\n",
    "Then, we created design matrix required for learning, where rows are spectra and columns contain fluxes in specified wavelengths between 6519 and 6732 Angstroms."
   ]
  },
  {
   "cell_type": "code",
   "execution_count": null,
   "metadata": {},
   "outputs": [],
   "source": [
    "# define wavelengths range\n",
    "wavelengths = np.linspace(start=6519, stop=6732, num=140)\n",
    "\n",
    "def preview_domain_adaptation():\n",
    "    # preview domain adaptation\n",
    "    fig, (ax1, ax2) = plt.subplots(nrows=2, sharex=True)\n",
    "\n",
    "    ondrejov_id = 'a201504150031'\n",
    "    ondrejov_fits = 'data/' + ondrejov_id + '.fits'\n",
    "    ondrejov_name, ondrejov_wave, ondrejov_flux = ondrejov.read_spectrum(ondrejov_fits)\n",
    "    # cut only region of interest\n",
    "    index = (6519 < ondrejov_wave) & (ondrejov_wave < 6732)\n",
    "    # plot original spectrum\n",
    "    ax1.plot(ondrejov_wave[index], ondrejov_flux[index])\n",
    "    # plot preprocessed spectrum\n",
    "    plot.plot_ondrejov_spectrum(ondrejov_id, ondrejov_data, ax1)\n",
    "\n",
    "    lamost_fits = 'spec-55959-GAC_094N27_V3_sp16-125.fits'\n",
    "    index = ids == lamost_fits\n",
    "    lamost_flux = X[index].reshape(140)\n",
    "    ax2.plot(wavelengths, lamost_flux)\n",
    "\n",
    "    ax1.set_ylabel('flux (counts)')\n",
    "    ax2.set_ylabel('flux (counts)')\n",
    "    ax2.set_xlabel('wavelength (\\AA)')\n",
    "    plt.savefig('figures/domain-adaptation.pdf')\n",
    "\n",
    "preview_domain_adaptation()"
   ]
  },
  {
   "cell_type": "markdown",
   "metadata": {},
   "source": [
    "### Rescaling\n",
    "\n",
    "The last step was min-max normalization of spectra's flux into a unit-less range $[-1, 1]$ using equation: \n",
    "\n",
    "$$ x' = 2 \\frac{x - \\min(x)}{\\max(x) - \\min(x)} - 1.$$\n",
    "\n",
    "Thus, each spectrum has flux maximum of value 1 and minimum of value -1. We applied this preprocessing procedure for two reasons. Firstly, we would like to classify based on spectra's shape and this procedure effectively suppreses the differences in intensities. Secondly, it gets the value into comfortable small-valued range suitable for machine learning. Note that this in not feature scaling but scaling across each individual spectrum.\n",
    "\n",
    "So we finally obtained feature vectors with 140 elements for further processing."
   ]
  },
  {
   "cell_type": "code",
   "execution_count": null,
   "metadata": {},
   "outputs": [],
   "source": [
    "X_train.max(), X_train.min(), X.max(), X.min()"
   ]
  },
  {
   "cell_type": "code",
   "execution_count": null,
   "metadata": {},
   "outputs": [],
   "source": [
    "X_train = preprocessing.scale(X_train)\n",
    "X = preprocessing.scale(X)\n",
    "X_train.max(), X_train.min(), X.max(), X.min()"
   ]
  },
  {
   "cell_type": "markdown",
   "metadata": {},
   "source": [
    "## Method\n",
    "\n",
    "TODO add code reference.\n",
    "\n",
    "### Convolutional neural network\n",
    "\n",
    "The machine learning is an iterative process requiring to check various models and their combinations tuned to the particular data characteristics.\n",
    "One of the most popular methods is the Deep Learning based on Deep convolutional neural networks.\n",
    "\n",
    "The architecture of convolutional network is inspired primarily by VGGNet, AlexNet and ZFNet.\n",
    "However, these networks are designed to process multi-layered two-dimensional images while our spectrum can be understood as a single-layered one-dimensional image.\n",
    "Therefore the architecture needs to be adapted to this difference.\n",
    "After several experiments we have converged to the architecture which was finally realised using TensorFlow through the Keras high-level interface run on a NVIDIA GTX980 GPU (4 GB memory, 2048 CUDA cores).\n",
    "\n",
    "### Active Learning\n",
    "\n",
    "TODO tady neco vic o active learning, vynechat heuristic\n",
    "\n",
    "After experimenting with various approaches it became soon obvious, that a somewhat heuristics methodology must be based on interactive visual confirmation of candidates suggested by a neural network.\n",
    "So far the best working method is based on  principles described in \\citet{podsztavek}.\n",
    "\n",
    "TODO tady doporucuje recenzent novy paragraf, nebude lepsi obrazek, detaily acitve uceni?\n",
    "\n",
    "The first predictions of emission-line candidates delivered by neural network trained on well exposed CCD700 spectra contained a considerable amount of feature-less noisy spectra.\n",
    "We needed  thus introduce a new class for the extremely noisy spectra, which was given to the network in the next training stage.\n",
    "Finally, we iteratively applied several times following loop: \n",
    "\n",
    "1. We took all data labelled so far and used SMOTE balancing to obtain the same amount of feature vectors in all classes. Then we trained the neural network on such dataset and predicted labels of unlabelled LAMOST spectra. \n",
    "2. From the spectra predicted as single emission or double peak (absorption spectra are not a target class) 100 were randomly selected, visually reviewed and re-classified, if the predicted label was wrong. This corresponds to the passive sampling type of active learning.\n",
    "3. These target candidates were visually reviewed and re-classified (re-labelled) by the authors (the human decision represents the oracule) in the following way: \n",
    "\n",
    "    - If the predicted label was correct, it was confirmed.\n",
    "    - If the predicted label was wrong, but represented another clearly defined class, it was modified \n",
    "    - If the spectrum was confusing, extremely noisy or contained the instrumental or processing artefacts, it was put into noise class. \n",
    "    - If the class was difficult to decide the spectrum was not put in training set. This is called in active learning noisy oraculum. Usually it is supposed that the human makes mistakes in labelling and is treated by statics assumptions. We decided to simply ignore this cases for the moment.\n",
    "\n",
    "All the visually re-labelled spectra were added to the training set (containing thus all Ondřejov spectra and less than 100, those non-classifiable were not put it, new from LAMOST after each iteration).\n",
    "When the amount of wrongly predicted spectra was very low (only few per 100), we stopped the loop.\n",
    "The training of the network always finished when there was no improvement of the loss function at least $10^{-5}$ achieved during 50 iterations."
   ]
  },
  {
   "cell_type": "code",
   "execution_count": null,
   "metadata": {},
   "outputs": [],
   "source": [
    "# create data structure\n",
    "data_dict = learning.initialize(ids_train, X_train, y_train, ids, X)"
   ]
  },
  {
   "cell_type": "code",
   "execution_count": null,
   "metadata": {},
   "outputs": [],
   "source": [
    "print('in iteration:', data_dict['it'])"
   ]
  },
  {
   "cell_type": "code",
   "execution_count": null,
   "metadata": {
    "scrolled": true
   },
   "outputs": [],
   "source": [
    "data_dict = learning.learning(data_dict)"
   ]
  },
  {
   "cell_type": "code",
   "execution_count": null,
   "metadata": {},
   "outputs": [],
   "source": [
    "# show number of predictions in each class\n",
    "learning.show_prediction_stats(data_dict)"
   ]
  },
  {
   "cell_type": "code",
   "execution_count": null,
   "metadata": {},
   "outputs": [],
   "source": [
    "# performance estimation\n",
    "random_spectra = learning.get_random_spectra(data_dict)"
   ]
  },
  {
   "cell_type": "code",
   "execution_count": null,
   "metadata": {},
   "outputs": [],
   "source": [
    "identifier, prediction = next(random_spectra)\n",
    "plot.preview_lamost_spectrum(identifier, prediction)"
   ]
  },
  {
   "cell_type": "code",
   "execution_count": null,
   "metadata": {},
   "outputs": [],
   "source": [
    "learning.mark_not_interesting(identifier, data_dict, prediction)"
   ]
  },
  {
   "cell_type": "code",
   "execution_count": null,
   "metadata": {},
   "outputs": [],
   "source": [
    "learning.mark_emission(identifier, data_dict, prediction)"
   ]
  },
  {
   "cell_type": "code",
   "execution_count": null,
   "metadata": {},
   "outputs": [],
   "source": [
    "learning.mark_double_peak(identifier, data_dict, prediction)"
   ]
  },
  {
   "cell_type": "code",
   "execution_count": null,
   "metadata": {
    "scrolled": true
   },
   "outputs": [],
   "source": [
    "plot.plot_performance(data_dict['est_perf_df'])"
   ]
  },
  {
   "cell_type": "code",
   "execution_count": null,
   "metadata": {},
   "outputs": [],
   "source": [
    "# active learning\n",
    "reclassification_spectra = learning.get_reclassification_spectra(data_dict)"
   ]
  },
  {
   "cell_type": "code",
   "execution_count": null,
   "metadata": {},
   "outputs": [],
   "source": [
    "identifier, prediction = next(reclassification_spectra)\n",
    "plot.preview_lamost_spectrum(identifier, prediction)"
   ]
  },
  {
   "cell_type": "code",
   "execution_count": null,
   "metadata": {},
   "outputs": [],
   "source": [
    "learning.classify_not_interesting(identifier, data_dict, prediction)"
   ]
  },
  {
   "cell_type": "code",
   "execution_count": null,
   "metadata": {},
   "outputs": [],
   "source": [
    "learning.classify_emission(identifier, data_dict, prediction)"
   ]
  },
  {
   "cell_type": "code",
   "execution_count": null,
   "metadata": {},
   "outputs": [],
   "source": [
    "learning.classify_double_peak(identifier, data_dict, prediction)"
   ]
  },
  {
   "cell_type": "code",
   "execution_count": null,
   "metadata": {
    "scrolled": true
   },
   "outputs": [],
   "source": [
    "# increment iteration and renew datasets\n",
    "data_dict = learning.next_iteration(data_dict)"
   ]
  },
  {
   "cell_type": "code",
   "execution_count": null,
   "metadata": {},
   "outputs": [],
   "source": [
    "# at the end store candidates with labels in a CSV file\n",
    "learning.save_candidates(data_dict)"
   ]
  },
  {
   "cell_type": "code",
   "execution_count": null,
   "metadata": {},
   "outputs": [],
   "source": [
    "learning.finalize(data_dict)"
   ]
  }
 ],
 "metadata": {
  "kernelspec": {
   "display_name": "Python 3",
   "language": "python",
   "name": "python3"
  },
  "language_info": {
   "codemirror_mode": {
    "name": "ipython",
    "version": 3
   },
   "file_extension": ".py",
   "mimetype": "text/x-python",
   "name": "python",
   "nbconvert_exporter": "python",
   "pygments_lexer": "ipython3",
   "version": "3.5.2"
  }
 },
 "nbformat": 4,
 "nbformat_minor": 2
}
