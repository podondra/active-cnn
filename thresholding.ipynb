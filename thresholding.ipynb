{
 "cells": [
  {
   "cell_type": "markdown",
   "metadata": {},
   "source": [
    "# Thresholding\n",
    "\n",
    "Here I do thresholding based on predicted accury to see its distribution. Note that high accuracy means good prediction because the training data are not representative of LAMOST distribution."
   ]
  },
  {
   "cell_type": "code",
   "execution_count": 1,
   "metadata": {},
   "outputs": [],
   "source": [
    "import h5py\n",
    "import matplotlib.pyplot as plt\n",
    "import numpy as np"
   ]
  },
  {
   "cell_type": "code",
   "execution_count": 2,
   "metadata": {},
   "outputs": [],
   "source": [
    "plt.rc('text', usetex=True)\n",
    "plt.rc('font', family='serif')"
   ]
  },
  {
   "cell_type": "code",
   "execution_count": 3,
   "metadata": {},
   "outputs": [
    {
     "data": {
      "text/plain": [
       "(4135482, 3)"
      ]
     },
     "execution_count": 3,
     "metadata": {},
     "output_type": "execute_result"
    }
   ],
   "source": [
    "with h5py.File('data/run-30-10-2018/learning-data.h5') as f:\n",
    "    it_grp = f['iteration_10']\n",
    "    y_pred = it_grp['y_pred'][...]\n",
    "y_pred.shape"
   ]
  },
  {
   "cell_type": "markdown",
   "metadata": {},
   "source": [
    "## Double-peak"
   ]
  },
  {
   "cell_type": "code",
   "execution_count": 4,
   "metadata": {},
   "outputs": [
    {
     "data": {
      "text/plain": [
       "1854"
      ]
     },
     "execution_count": 4,
     "metadata": {},
     "output_type": "execute_result"
    }
   ],
   "source": [
    "double_peak_idx = np.argmax(y_pred, axis=1) == 2\n",
    "double_peak_prob = y_pred[double_peak_idx, 2]\n",
    "np.sum(double_peak_idx)"
   ]
  },
  {
   "cell_type": "code",
   "execution_count": 5,
   "metadata": {},
   "outputs": [
    {
     "data": {
      "image/png": "[encoded data removed]",
      "text/plain": [
       "<Figure size 432x288 with 1 Axes>"
      ]
     },
     "metadata": {},
     "output_type": "display_data"
    }
   ],
   "source": [
    "ax = plt.axes(\n",
    "    title='double-peak probabilities histogram',\n",
    "    xlabel='probability',\n",
    "    ylabel='count'\n",
    ")\n",
    "ax.hist(double_peak_prob);"
   ]
  },
  {
   "cell_type": "code",
   "execution_count": 6,
   "metadata": {},
   "outputs": [
    {
     "name": "stdout",
     "output_type": "stream",
     "text": [
      "threshold\tcount\n",
      "0.39\t\t1854\n",
      "0.5\t\t1850\n",
      "0.6\t\t1675\n",
      "0.7\t\t1471\n",
      "0.8\t\t1233\n",
      "0.9\t\t969\n",
      "0.95\t\t823\n",
      "0.99\t\t610\n"
     ]
    },
    {
     "data": {
      "image/png": "[encoded data removed]",
      "text/plain": [
       "<Figure size 432x288 with 1 Axes>"
      ]
     },
     "metadata": {},
     "output_type": "display_data"
    }
   ],
   "source": [
    "ts = np.array([double_peak_prob.min(), 0.5, 0.6, 0.7, 0.8, 0.9, 0.95, 0.99])\n",
    "counts = np.zeros_like(ts, dtype=np.int)\n",
    "print('threshold\\tcount')\n",
    "for i, t in enumerate(ts):\n",
    "    counts[i] = np.sum(double_peak_prob >= t)\n",
    "    print('{:.2}\\t\\t{}'.format(t, counts[i]))\n",
    "\n",
    "ax = plt.axes(\n",
    "    xticks=ts,\n",
    "    title='double-peak candidates counts for different thresholds',\n",
    "    xlabel='threshold',\n",
    "    ylabel='count'\n",
    ")\n",
    "plt.xticks(rotation='vertical')\n",
    "ax.plot(ts, counts, 'x');"
   ]
  },
  {
   "cell_type": "markdown",
   "metadata": {},
   "source": [
    "## Emission"
   ]
  },
  {
   "cell_type": "code",
   "execution_count": 7,
   "metadata": {},
   "outputs": [
    {
     "data": {
      "text/plain": [
       "46642"
      ]
     },
     "execution_count": 7,
     "metadata": {},
     "output_type": "execute_result"
    }
   ],
   "source": [
    "emission_idx = np.argmax(y_pred, axis=1) == 1\n",
    "emission_prob = y_pred[emission_idx, 1]\n",
    "np.sum(emission_idx)"
   ]
  },
  {
   "cell_type": "code",
   "execution_count": 8,
   "metadata": {},
   "outputs": [
    {
     "data": {
      "image/png": "[encoded data removed]",
      "text/plain": [
       "<Figure size 432x288 with 1 Axes>"
      ]
     },
     "metadata": {},
     "output_type": "display_data"
    }
   ],
   "source": [
    "ax = plt.axes(\n",
    "    title='emission probabilities histogram',\n",
    "    xlabel='probability',\n",
    "    ylabel='count'\n",
    ")\n",
    "ax.hist(emission_prob);"
   ]
  },
  {
   "cell_type": "code",
   "execution_count": 9,
   "metadata": {},
   "outputs": [
    {
     "name": "stdout",
     "output_type": "stream",
     "text": [
      "threshold\tcount\n",
      "0.37\t\t46642\n",
      "0.5\t\t46635\n",
      "0.6\t\t46121\n",
      "0.7\t\t45582\n",
      "0.8\t\t44928\n",
      "0.9\t\t43977\n",
      "0.95\t\t43120\n",
      "0.99\t\t41292\n"
     ]
    },
    {
     "data": {
      "image/png": "[encoded data removed]",
      "text/plain": [
       "<Figure size 432x288 with 1 Axes>"
      ]
     },
     "metadata": {},
     "output_type": "display_data"
    }
   ],
   "source": [
    "ts = np.array([emission_prob.min(), 0.5, 0.6, 0.7, 0.8, 0.9, 0.95, 0.99])\n",
    "counts = np.zeros_like(ts, dtype=np.int)\n",
    "print('threshold\\tcount')\n",
    "for i, t in enumerate(ts):\n",
    "    counts[i] = np.sum(emission_prob >= t)\n",
    "    print('{:.2}\\t\\t{}'.format(t, counts[i]))\n",
    "\n",
    "ax = plt.axes(\n",
    "    xticks=ts,\n",
    "    title='emission candidates counts for different thresholds',\n",
    "    xlabel='threshold',\n",
    "    ylabel='count'\n",
    ")\n",
    "plt.xticks(rotation='vertical')\n",
    "ax.plot(ts, counts, 'x');"
   ]
  }
 ],
 "metadata": {
  "kernelspec": {
   "display_name": "Python 3",
   "language": "python",
   "name": "python3"
  },
  "language_info": {
   "codemirror_mode": {
    "name": "ipython",
    "version": 3
   },
   "file_extension": ".py",
   "mimetype": "text/x-python",
   "name": "python",
   "nbconvert_exporter": "python",
   "pygments_lexer": "ipython3",
   "version": "3.5.2"
  }
 },
 "nbformat": 4,
 "nbformat_minor": 2
}
